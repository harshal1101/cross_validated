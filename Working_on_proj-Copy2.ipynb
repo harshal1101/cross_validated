{
 "cells": [
  {
   "cell_type": "code",
   "execution_count": 1,
   "metadata": {},
   "outputs": [],
   "source": [
    "import pandas as pd\n",
    "import numpy as np\n",
    "from scipy.stats import norm\n",
    "from statsmodels.discrete.discrete_model import Probit #just to check the final correctness of algorithm\n",
    "from scipy.stats import bernoulli"
   ]
  },
  {
   "cell_type": "code",
   "execution_count": 2,
   "metadata": {},
   "outputs": [],
   "source": [
    "df = pd.read_csv('titanic.csv')"
   ]
  },
  {
   "cell_type": "code",
   "execution_count": 3,
   "metadata": {},
   "outputs": [
    {
     "data": {
      "text/html": [
       "<div>\n",
       "<style scoped>\n",
       "    .dataframe tbody tr th:only-of-type {\n",
       "        vertical-align: middle;\n",
       "    }\n",
       "\n",
       "    .dataframe tbody tr th {\n",
       "        vertical-align: top;\n",
       "    }\n",
       "\n",
       "    .dataframe thead th {\n",
       "        text-align: right;\n",
       "    }\n",
       "</style>\n",
       "<table border=\"1\" class=\"dataframe\">\n",
       "  <thead>\n",
       "    <tr style=\"text-align: right;\">\n",
       "      <th></th>\n",
       "      <th>Survived</th>\n",
       "      <th>(Intercept)</th>\n",
       "      <th>Sexmale</th>\n",
       "      <th>Age</th>\n",
       "      <th>SibSp</th>\n",
       "      <th>Parch</th>\n",
       "      <th>Fare</th>\n",
       "    </tr>\n",
       "  </thead>\n",
       "  <tbody>\n",
       "    <tr>\n",
       "      <th>0</th>\n",
       "      <td>0</td>\n",
       "      <td>1</td>\n",
       "      <td>1</td>\n",
       "      <td>22.0</td>\n",
       "      <td>1</td>\n",
       "      <td>0</td>\n",
       "      <td>7.2500</td>\n",
       "    </tr>\n",
       "    <tr>\n",
       "      <th>1</th>\n",
       "      <td>1</td>\n",
       "      <td>1</td>\n",
       "      <td>0</td>\n",
       "      <td>38.0</td>\n",
       "      <td>1</td>\n",
       "      <td>0</td>\n",
       "      <td>71.2833</td>\n",
       "    </tr>\n",
       "    <tr>\n",
       "      <th>2</th>\n",
       "      <td>1</td>\n",
       "      <td>1</td>\n",
       "      <td>0</td>\n",
       "      <td>26.0</td>\n",
       "      <td>0</td>\n",
       "      <td>0</td>\n",
       "      <td>7.9250</td>\n",
       "    </tr>\n",
       "    <tr>\n",
       "      <th>3</th>\n",
       "      <td>1</td>\n",
       "      <td>1</td>\n",
       "      <td>0</td>\n",
       "      <td>35.0</td>\n",
       "      <td>1</td>\n",
       "      <td>0</td>\n",
       "      <td>53.1000</td>\n",
       "    </tr>\n",
       "    <tr>\n",
       "      <th>4</th>\n",
       "      <td>0</td>\n",
       "      <td>1</td>\n",
       "      <td>1</td>\n",
       "      <td>35.0</td>\n",
       "      <td>0</td>\n",
       "      <td>0</td>\n",
       "      <td>8.0500</td>\n",
       "    </tr>\n",
       "    <tr>\n",
       "      <th>...</th>\n",
       "      <td>...</td>\n",
       "      <td>...</td>\n",
       "      <td>...</td>\n",
       "      <td>...</td>\n",
       "      <td>...</td>\n",
       "      <td>...</td>\n",
       "      <td>...</td>\n",
       "    </tr>\n",
       "    <tr>\n",
       "      <th>707</th>\n",
       "      <td>0</td>\n",
       "      <td>1</td>\n",
       "      <td>0</td>\n",
       "      <td>39.0</td>\n",
       "      <td>0</td>\n",
       "      <td>5</td>\n",
       "      <td>29.1250</td>\n",
       "    </tr>\n",
       "    <tr>\n",
       "      <th>708</th>\n",
       "      <td>0</td>\n",
       "      <td>1</td>\n",
       "      <td>1</td>\n",
       "      <td>27.0</td>\n",
       "      <td>0</td>\n",
       "      <td>0</td>\n",
       "      <td>13.0000</td>\n",
       "    </tr>\n",
       "    <tr>\n",
       "      <th>709</th>\n",
       "      <td>1</td>\n",
       "      <td>1</td>\n",
       "      <td>0</td>\n",
       "      <td>19.0</td>\n",
       "      <td>0</td>\n",
       "      <td>0</td>\n",
       "      <td>30.0000</td>\n",
       "    </tr>\n",
       "    <tr>\n",
       "      <th>710</th>\n",
       "      <td>1</td>\n",
       "      <td>1</td>\n",
       "      <td>1</td>\n",
       "      <td>26.0</td>\n",
       "      <td>0</td>\n",
       "      <td>0</td>\n",
       "      <td>30.0000</td>\n",
       "    </tr>\n",
       "    <tr>\n",
       "      <th>711</th>\n",
       "      <td>0</td>\n",
       "      <td>1</td>\n",
       "      <td>1</td>\n",
       "      <td>32.0</td>\n",
       "      <td>0</td>\n",
       "      <td>0</td>\n",
       "      <td>7.7500</td>\n",
       "    </tr>\n",
       "  </tbody>\n",
       "</table>\n",
       "<p>712 rows × 7 columns</p>\n",
       "</div>"
      ],
      "text/plain": [
       "     Survived  (Intercept)  Sexmale   Age  SibSp  Parch     Fare\n",
       "0           0            1        1  22.0      1      0   7.2500\n",
       "1           1            1        0  38.0      1      0  71.2833\n",
       "2           1            1        0  26.0      0      0   7.9250\n",
       "3           1            1        0  35.0      1      0  53.1000\n",
       "4           0            1        1  35.0      0      0   8.0500\n",
       "..        ...          ...      ...   ...    ...    ...      ...\n",
       "707         0            1        0  39.0      0      5  29.1250\n",
       "708         0            1        1  27.0      0      0  13.0000\n",
       "709         1            1        0  19.0      0      0  30.0000\n",
       "710         1            1        1  26.0      0      0  30.0000\n",
       "711         0            1        1  32.0      0      0   7.7500\n",
       "\n",
       "[712 rows x 7 columns]"
      ]
     },
     "execution_count": 3,
     "metadata": {},
     "output_type": "execute_result"
    }
   ],
   "source": [
    "df"
   ]
  },
  {
   "cell_type": "code",
   "execution_count": 4,
   "metadata": {},
   "outputs": [],
   "source": [
    "from sklearn.model_selection import train_test_split"
   ]
  },
  {
   "cell_type": "code",
   "execution_count": 5,
   "metadata": {},
   "outputs": [
    {
     "data": {
      "text/plain": [
       "array([[ 1.    ,  1.    , 22.    ,  1.    ,  0.    ,  7.25  ],\n",
       "       [ 1.    ,  0.    , 38.    ,  1.    ,  0.    , 71.2833],\n",
       "       [ 1.    ,  0.    , 26.    ,  0.    ,  0.    ,  7.925 ],\n",
       "       ...,\n",
       "       [ 1.    ,  0.    , 19.    ,  0.    ,  0.    , 30.    ],\n",
       "       [ 1.    ,  1.    , 26.    ,  0.    ,  0.    , 30.    ],\n",
       "       [ 1.    ,  1.    , 32.    ,  0.    ,  0.    ,  7.75  ]])"
      ]
     },
     "execution_count": 5,
     "metadata": {},
     "output_type": "execute_result"
    }
   ],
   "source": [
    "df_in = df[['(Intercept)','Sexmale','Age','SibSp','Parch','Fare']].values\n",
    "df_in\n",
    "df_out = df[['Survived']].values\n",
    "df_out\n",
    "df_in"
   ]
  },
  {
   "cell_type": "code",
   "execution_count": 6,
   "metadata": {},
   "outputs": [],
   "source": [
    "x_train,x_test,y_train,y_test = train_test_split(df_in,df_out,random_state=100, test_size=0.2)"
   ]
  },
  {
   "cell_type": "code",
   "execution_count": null,
   "metadata": {},
   "outputs": [],
   "source": []
  },
  {
   "cell_type": "code",
   "execution_count": null,
   "metadata": {},
   "outputs": [],
   "source": []
  },
  {
   "cell_type": "code",
   "execution_count": null,
   "metadata": {},
   "outputs": [],
   "source": []
  },
  {
   "cell_type": "code",
   "execution_count": null,
   "metadata": {},
   "outputs": [],
   "source": []
  },
  {
   "cell_type": "code",
   "execution_count": null,
   "metadata": {},
   "outputs": [],
   "source": []
  },
  {
   "cell_type": "markdown",
   "metadata": {},
   "source": [
    "# Part 2"
   ]
  },
  {
   "cell_type": "code",
   "execution_count": 7,
   "metadata": {},
   "outputs": [],
   "source": [
    "# x = df[['(Intercept)','Sexmale','Age','SibSp','Parch','Fare']].to_numpy()\n",
    "# y = df['Survived'].to_numpy()\n",
    "# x"
   ]
  },
  {
   "cell_type": "code",
   "execution_count": null,
   "metadata": {},
   "outputs": [],
   "source": []
  },
  {
   "cell_type": "code",
   "execution_count": 8,
   "metadata": {},
   "outputs": [
    {
     "data": {
      "text/plain": [
       "0.39718804920913886"
      ]
     },
     "execution_count": 8,
     "metadata": {},
     "output_type": "execute_result"
    }
   ],
   "source": [
    "yavg = np.average(y_train)\n",
    "yavg"
   ]
  },
  {
   "cell_type": "markdown",
   "metadata": {},
   "source": [
    "# Getting the average of the input covariates"
   ]
  },
  {
   "cell_type": "code",
   "execution_count": 9,
   "metadata": {},
   "outputs": [],
   "source": [
    "x_inter_avg = 1 #intercept column avg\n"
   ]
  },
  {
   "cell_type": "code",
   "execution_count": 10,
   "metadata": {},
   "outputs": [
    {
     "data": {
      "text/plain": [
       "0.6432337434094904"
      ]
     },
     "execution_count": 10,
     "metadata": {},
     "output_type": "execute_result"
    }
   ],
   "source": [
    "x_sex_avg = np.average(x_train[:,1])  #sex column avg\n",
    "x_sex_avg"
   ]
  },
  {
   "cell_type": "code",
   "execution_count": 11,
   "metadata": {},
   "outputs": [
    {
     "data": {
      "text/plain": [
       "29.481985940246044"
      ]
     },
     "execution_count": 11,
     "metadata": {},
     "output_type": "execute_result"
    }
   ],
   "source": [
    "x_age_avg = np.average(x_train[:,2]) #age column avg\n",
    "x_age_avg"
   ]
  },
  {
   "cell_type": "code",
   "execution_count": 12,
   "metadata": {},
   "outputs": [
    {
     "data": {
      "text/plain": [
       "0.5571177504393673"
      ]
     },
     "execution_count": 12,
     "metadata": {},
     "output_type": "execute_result"
    }
   ],
   "source": [
    "#sibsp parch fare\n",
    "x_sib_avg = np.average(x_train[:,3])  #sibsp column avg\n",
    "x_sib_avg"
   ]
  },
  {
   "cell_type": "code",
   "execution_count": 13,
   "metadata": {},
   "outputs": [
    {
     "data": {
      "text/plain": [
       "0.4024604569420035"
      ]
     },
     "execution_count": 13,
     "metadata": {},
     "output_type": "execute_result"
    }
   ],
   "source": [
    "x_parch_avg = np.average(x_train[:,4]) #parch column avg\n",
    "x_parch_avg"
   ]
  },
  {
   "cell_type": "code",
   "execution_count": 14,
   "metadata": {},
   "outputs": [
    {
     "data": {
      "text/plain": [
       "35.81783778558875"
      ]
     },
     "execution_count": 14,
     "metadata": {},
     "output_type": "execute_result"
    }
   ],
   "source": [
    "x_fare_avg = np.average(x_train[:,5])  #fare column average\n",
    "x_fare_avg"
   ]
  },
  {
   "cell_type": "markdown",
   "metadata": {},
   "source": [
    "# Using the input covariates for guessing the inital value of vector of regression coefficients( for this each input is considered to be independent of the other)"
   ]
  },
  {
   "cell_type": "code",
   "execution_count": 15,
   "metadata": {},
   "outputs": [
    {
     "data": {
      "text/plain": [
       "0.39718804920913886"
      ]
     },
     "execution_count": 15,
     "metadata": {},
     "output_type": "execute_result"
    }
   ],
   "source": [
    "bi = yavg/x_inter_avg\n",
    "bi"
   ]
  },
  {
   "cell_type": "code",
   "execution_count": 16,
   "metadata": {},
   "outputs": [
    {
     "data": {
      "text/plain": [
       "0.6174863387978142"
      ]
     },
     "execution_count": 16,
     "metadata": {},
     "output_type": "execute_result"
    }
   ],
   "source": [
    "bs = yavg/x_sex_avg\n",
    "bs"
   ]
  },
  {
   "cell_type": "code",
   "execution_count": 17,
   "metadata": {},
   "outputs": [
    {
     "data": {
      "text/plain": [
       "0.01347222843176704"
      ]
     },
     "execution_count": 17,
     "metadata": {},
     "output_type": "execute_result"
    }
   ],
   "source": [
    "ba = yavg/x_age_avg\n",
    "ba"
   ]
  },
  {
   "cell_type": "code",
   "execution_count": 18,
   "metadata": {},
   "outputs": [
    {
     "data": {
      "text/plain": [
       "0.7129337539432178"
      ]
     },
     "execution_count": 18,
     "metadata": {},
     "output_type": "execute_result"
    }
   ],
   "source": [
    "bsi = yavg/x_sib_avg\n",
    "bsi"
   ]
  },
  {
   "cell_type": "code",
   "execution_count": 19,
   "metadata": {},
   "outputs": [
    {
     "data": {
      "text/plain": [
       "0.9868995633187774"
      ]
     },
     "execution_count": 19,
     "metadata": {},
     "output_type": "execute_result"
    }
   ],
   "source": [
    "bpa = yavg/x_parch_avg\n",
    "bpa"
   ]
  },
  {
   "cell_type": "code",
   "execution_count": 20,
   "metadata": {},
   "outputs": [
    {
     "data": {
      "text/plain": [
       "0.011089112960608327"
      ]
     },
     "execution_count": 20,
     "metadata": {},
     "output_type": "execute_result"
    }
   ],
   "source": [
    "bf = yavg/x_fare_avg\n",
    "bf"
   ]
  },
  {
   "cell_type": "code",
   "execution_count": 21,
   "metadata": {},
   "outputs": [],
   "source": [
    "beta = np.array([bi,-bs,-ba,-bsi,-bpa,bf])\n",
    "beta\n",
    "x =x_train\n",
    "y=y_train"
   ]
  },
  {
   "cell_type": "code",
   "execution_count": 22,
   "metadata": {},
   "outputs": [],
   "source": [
    "class mle:\n",
    "    def __init__(self,x,y,beta):\n",
    "        self.x = x\n",
    "        self.y =y\n",
    "        self.beta = beta\n",
    "    def normalcdf(self):\n",
    "        return norm.cdf(self.x@self.beta.T)  #cdf of a normal distribution\n",
    "    def normalpdf(self):\n",
    "        return norm.pdf(self.x@self.beta.T) #pdf of a normal distribution\n",
    "    def likelihood(self):\n",
    "        cdf_val = self.normalcdf()\n",
    "        n = self.y.size\n",
    "        suml = 0\n",
    "        for i in range(n):\n",
    "            if cdf_val[i] != 1 and cdf_val[i]!=0:\n",
    "                suml = suml + (y[i]*np.log(cdf_val[i]) + (1-y[i])*np.log(1-cdf_val[i]))  #maximum likelihood calculation\n",
    "        return suml\n",
    "    def gradient(self):\n",
    "        cdf_val = self.normalcdf()\n",
    "        pdf_val = self.normalpdf()\n",
    "        n = self.y.size\n",
    "        sumg =0\n",
    "        for i in range(n):\n",
    "            if cdf_val[i]!=1 and cdf_val[i]!=0:      #skipping the entries for which cdf is either exactly equal to 0 or 1\n",
    "                first_term = y[i]*pdf_val[i]/cdf_val[i]\n",
    "                second_term = (1-y[i])*pdf_val[i]/(1-cdf_val[i])\n",
    "                sumg = sumg + (first_term -second_term)*x[i,:]\n",
    "        return sumg  \n",
    "    \n",
    "    def hessian(self):\n",
    "        cdf_val = self.normalcdf()\n",
    "        pdf_val = self.normalpdf()\n",
    "        n = self.y.size\n",
    "        ans = np.empty(712, dtype=np.float64)        \n",
    "        xc1 = np.empty([6,712], dtype=np.float64)\n",
    "        xr1 = np.empty([712,6], dtype=np.float64)   #try\n",
    "        term =np.empty(712, dtype=np.float64)        \n",
    "        for i in range(n):\n",
    "            if cdf_val[i]!=1 and cdf_val[i]!=0: #skipping the entries for which cdf is either exactly equal to 0 or 1\n",
    "                xr = x[i,:]\n",
    "                xc = xr.reshape(-1,1)\n",
    "                xr = xc.reshape(1,-1)               \n",
    "                first_term = -pdf_val[i]*y[i]*((x[i,:]@beta.T)*cdf_val[i] + pdf_val[i])/cdf_val[i]**2\n",
    "                second_term = -pdf_val[i]*(1-y[i])*(pdf_val[i] - (x[i,:]@beta.T)*(1-cdf_val[i]))/(1-cdf_val[i])**2\n",
    "                term[i] = (first_term +second_term)\n",
    "                #print(first_term)\n",
    "                ans[i] = term[i]\n",
    "                xc1[:,i] = xc.flatten()\n",
    "                xr1[i,:]= xr.flatten()   #try\n",
    "        ans.flatten('F')            \n",
    "        return (ans*xc1)@xr1\n",
    "    "
   ]
  },
  {
   "cell_type": "markdown",
   "metadata": {},
   "source": [
    "# Newton Raphson Algorithm for finding the vector of regression coefficients"
   ]
  },
  {
   "cell_type": "code",
   "execution_count": 23,
   "metadata": {},
   "outputs": [],
   "source": [
    "def newton_raphson(mlemodel, tolerance=1e-3, maxiter=1000):\n",
    "\n",
    "    i = 0\n",
    "    err= 100      \n",
    "    while i<maxiter and np.any(err > tolerance):\n",
    "        \n",
    "        \n",
    "        gradient = mlemodel.gradient()\n",
    "        hessian = mlemodel.hessian()         \n",
    "        invhessian = np.linalg.inv(hessian)\n",
    "        betaNew = mlemodel.beta - (np.linalg.inv(hessian) @ gradient)\n",
    "        print(betaNew)\n",
    "        err = betaNew - mlemodel.beta\n",
    "        mlemodel.beta = betaNew            \n",
    "        i += 1\n",
    "        if i==1000:\n",
    "            return mlemodel.beta\n",
    "    return mlemodel.beta"
   ]
  },
  {
   "cell_type": "code",
   "execution_count": 24,
   "metadata": {},
   "outputs": [],
   "source": [
    "mlemodel = mle(x,y,beta)\n"
   ]
  },
  {
   "cell_type": "code",
   "execution_count": 25,
   "metadata": {},
   "outputs": [
    {
     "data": {
      "text/plain": [
       "array([ 134.98457536,  -10.64235857, 2901.06830771,  210.08447475,\n",
       "        226.59371681, 8068.27025807])"
      ]
     },
     "execution_count": 25,
     "metadata": {},
     "output_type": "execute_result"
    }
   ],
   "source": [
    "mlemodel.gradient()"
   ]
  },
  {
   "cell_type": "code",
   "execution_count": 26,
   "metadata": {},
   "outputs": [
    {
     "data": {
      "text/plain": [
       "array([[-2.97781161e+02, -1.80044057e+02, -8.71093055e+03,\n",
       "        -1.20937354e+02, -1.04467137e+02, -9.67343132e+03],\n",
       "       [-1.80044057e+02, -1.80044057e+02, -5.39244388e+03,\n",
       "        -4.58678693e+01, -3.31076775e+01, -4.82481415e+03],\n",
       "       [-8.71093055e+03, -5.39244388e+03, -3.13807597e+05,\n",
       "        -3.06838726e+03, -2.03543700e+03, -2.95943394e+05],\n",
       "       [-1.20937354e+02, -4.58678693e+01, -3.06838726e+03,\n",
       "        -1.99370271e+02, -9.48397726e+01, -7.14594423e+03],\n",
       "       [-1.04467137e+02, -3.31076775e+01, -2.03543700e+03,\n",
       "        -9.48397726e+01, -1.74140255e+02, -6.58797326e+03],\n",
       "       [-9.67343132e+03, -4.82481415e+03, -2.95943394e+05,\n",
       "        -7.14594423e+03, -6.58797326e+03, -8.60633539e+05]])"
      ]
     },
     "execution_count": 26,
     "metadata": {},
     "output_type": "execute_result"
    }
   ],
   "source": [
    "mlemodel.hessian()"
   ]
  },
  {
   "cell_type": "code",
   "execution_count": 27,
   "metadata": {},
   "outputs": [
    {
     "name": "stdout",
     "output_type": "stream",
     "text": [
      "[ 0.50751909 -1.28737978 -0.00463237 -0.04467015  0.09726988  0.00609181]\n",
      "[ 0.63570161 -1.45539692 -0.00585242 -0.09505646  0.05236611  0.00768352]\n",
      "[ 0.71339318 -1.4870349  -0.00774143 -0.14622398  0.02975372  0.0085568 ]\n",
      "[ 0.70735373 -1.51048803 -0.00709702 -0.17214071  0.00235428  0.00902868]\n"
     ]
    }
   ],
   "source": [
    "final =newton_raphson(mlemodel)"
   ]
  },
  {
   "cell_type": "markdown",
   "metadata": {},
   "source": [
    "# Final vector of Regression Coefficients"
   ]
  },
  {
   "cell_type": "code",
   "execution_count": 28,
   "metadata": {},
   "outputs": [
    {
     "data": {
      "text/plain": [
       "array([ 0.70735373, -1.51048803, -0.00709702, -0.17214071,  0.00235428,\n",
       "        0.00902868])"
      ]
     },
     "execution_count": 28,
     "metadata": {},
     "output_type": "execute_result"
    }
   ],
   "source": [
    "final  #the final regression coefficients"
   ]
  },
  {
   "cell_type": "code",
   "execution_count": 29,
   "metadata": {},
   "outputs": [],
   "source": [
    "mlemodelfinal = mle(x,y,final) #using the mle class again to find the likelihood value"
   ]
  },
  {
   "cell_type": "code",
   "execution_count": 30,
   "metadata": {},
   "outputs": [
    {
     "data": {
      "text/plain": [
       "array([-280.51546907])"
      ]
     },
     "execution_count": 30,
     "metadata": {},
     "output_type": "execute_result"
    }
   ],
   "source": [
    "mlemodelfinal.likelihood() "
   ]
  },
  {
   "cell_type": "markdown",
   "metadata": {},
   "source": [
    "# Part 3"
   ]
  },
  {
   "cell_type": "code",
   "execution_count": 31,
   "metadata": {},
   "outputs": [],
   "source": [
    "Jack = [1,1,20,0,0,7.5] "
   ]
  },
  {
   "cell_type": "code",
   "execution_count": 32,
   "metadata": {},
   "outputs": [],
   "source": [
    "Rose = [1,0,19,1,1,512]"
   ]
  },
  {
   "cell_type": "code",
   "execution_count": 33,
   "metadata": {},
   "outputs": [
    {
     "data": {
      "text/plain": [
       "0.19014566099789837"
      ]
     },
     "execution_count": 33,
     "metadata": {},
     "output_type": "execute_result"
    }
   ],
   "source": [
    "norm.cdf(Jack@final)  #the probability value here shows that chances of Jack surviving are very less"
   ]
  },
  {
   "cell_type": "code",
   "execution_count": 34,
   "metadata": {},
   "outputs": [
    {
     "data": {
      "text/plain": [
       "0.9999997488174193"
      ]
     },
     "execution_count": 34,
     "metadata": {},
     "output_type": "execute_result"
    }
   ],
   "source": [
    "norm.cdf(Rose@final)   #the probability value here shows that there are high chances that Rose will survive"
   ]
  },
  {
   "cell_type": "code",
   "execution_count": 35,
   "metadata": {},
   "outputs": [
    {
     "name": "stdout",
     "output_type": "stream",
     "text": [
      "Optimization terminated successfully.\n",
      "         Current function value: 0.489501\n",
      "         Iterations 6\n",
      "                          Probit Regression Results                           \n",
      "==============================================================================\n",
      "Dep. Variable:                      y   No. Observations:                  569\n",
      "Model:                         Probit   Df Residuals:                      563\n",
      "Method:                           MLE   Df Model:                            5\n",
      "Date:                Fri, 16 Jul 2021   Pseudo R-squ.:                  0.2714\n",
      "Time:                        00:16:00   Log-Likelihood:                -278.53\n",
      "converged:                       True   LL-Null:                       -382.29\n",
      "Covariance Type:            nonrobust   LLR p-value:                 6.990e-43\n",
      "==============================================================================\n",
      "                 coef    std err          z      P>|z|      [0.025      0.975]\n",
      "------------------------------------------------------------------------------\n",
      "const          0.7943      0.185      4.301      0.000       0.432       1.156\n",
      "x1            -1.4943      0.131    -11.389      0.000      -1.751      -1.237\n",
      "x2            -0.0097      0.005     -2.103      0.035      -0.019      -0.001\n",
      "x3            -0.2349      0.075     -3.140      0.002      -0.381      -0.088\n",
      "x4            -0.1104      0.086     -1.289      0.197      -0.278       0.057\n",
      "x5             0.0100      0.002      5.730      0.000       0.007       0.013\n",
      "==============================================================================\n"
     ]
    }
   ],
   "source": [
    "print(Probit(y, x).fit().summary())  #Inbuilt Probit Regression to check the correctness of algorithm"
   ]
  },
  {
   "cell_type": "code",
   "execution_count": 36,
   "metadata": {},
   "outputs": [],
   "source": [
    "#pred_res =  1 if norm.cdf(x_test@final)>0.5 else 0"
   ]
  },
  {
   "cell_type": "code",
   "execution_count": 37,
   "metadata": {},
   "outputs": [
    {
     "name": "stdout",
     "output_type": "stream",
     "text": [
      "0.9650722721131316\n",
      "[1] [1.]\n",
      "1.06308434132654\n",
      "[1] [1.]\n",
      "-0.9978386320785845\n",
      "[0] [0.]\n",
      "0.4712826485356874\n",
      "[1] [1.]\n",
      "-0.8876903812874135\n",
      "[0] [0.]\n",
      "-0.9180958127448249\n",
      "[0] [0.]\n",
      "-1.0269715083400506\n",
      "[0] [0.]\n",
      "-0.8800494418837198\n",
      "[1] [0.]\n",
      "0.6543980235948401\n",
      "[0] [1.]\n",
      "-1.0870151793722278\n",
      "[0] [0.]\n",
      "0.5963412172722244\n",
      "[1] [1.]\n",
      "-0.9141468126209931\n",
      "[0] [0.]\n",
      "1.0976056798027467\n",
      "[1] [1.]\n",
      "0.33256882511436625\n",
      "[0] [1.]\n",
      "-0.8305221137029822\n",
      "[0] [0.]\n",
      "-0.8068100367955343\n",
      "[0] [0.]\n",
      "0.552091635198222\n",
      "[1] [1.]\n",
      "-1.1237685551060725\n",
      "[0] [0.]\n",
      "0.6351152441002739\n",
      "[1] [1.]\n",
      "-0.944238526689922\n",
      "[0] [0.]\n",
      "0.8433706691577485\n",
      "[1] [1.]\n",
      "0.6733914659909301\n",
      "[1] [1.]\n",
      "-0.9593259563181162\n",
      "[1] [0.]\n",
      "-0.9941412279224111\n",
      "[0] [0.]\n",
      "-0.9040799392269685\n",
      "[1] [0.]\n",
      "0.6950484988891699\n",
      "[1] [1.]\n",
      "0.3666962835991122\n",
      "[1] [1.]\n",
      "-0.8270508922685709\n",
      "[0] [0.]\n",
      "1.6764504072997592\n",
      "[1] [1.]\n",
      "-0.8739608336472361\n",
      "[0] [0.]\n",
      "0.8024549950673697\n",
      "[1] [1.]\n",
      "-0.9092712094270492\n",
      "[0] [0.]\n",
      "2.5113510384632534\n",
      "[1] [1.]\n",
      "-0.7024961726558524\n",
      "[0] [0.]\n",
      "0.616677165787888\n",
      "[1] [1.]\n",
      "-0.843176592817242\n",
      "[0] [0.]\n",
      "-1.0712364136147072\n",
      "[0] [0.]\n",
      "-0.8367329865162065\n",
      "[0] [0.]\n",
      "-0.7523691306209483\n",
      "[1] [0.]\n",
      "-1.0204826689939868\n",
      "[0] [0.]\n",
      "0.7631322936848237\n",
      "[1] [1.]\n",
      "-0.8986721381806281\n",
      "[0] [0.]\n",
      "0.7896212226656698\n",
      "[1] [1.]\n",
      "1.3379289023838106\n",
      "[1] [1.]\n",
      "1.2619131175146348\n",
      "[1] [1.]\n",
      "-0.9589415788448015\n",
      "[1] [0.]\n",
      "0.9564571613731813\n",
      "[1] [1.]\n",
      "0.7581188992722693\n",
      "[1] [1.]\n",
      "1.9805830522712975\n",
      "[1] [1.]\n",
      "0.7864729167479564\n",
      "[0] [1.]\n",
      "-1.0218088271739976\n",
      "[0] [0.]\n",
      "-0.9314651432250042\n",
      "[0] [0.]\n",
      "-0.8227213966539808\n",
      "[0] [0.]\n",
      "0.8993859513023766\n",
      "[1] [1.]\n",
      "-0.7268662211207555\n",
      "[1] [0.]\n",
      "0.6726496044585211\n",
      "[1] [1.]\n",
      "-0.9212438346013682\n",
      "[0] [0.]\n",
      "-0.9308064555163709\n",
      "[0] [0.]\n",
      "-0.8047216315017169\n",
      "[1] [0.]\n",
      "0.6531173931152253\n",
      "[1] [1.]\n",
      "-0.9515635791107896\n",
      "[0] [0.]\n",
      "-1.0527983353023216\n",
      "[0] [0.]\n",
      "-0.9873384512111754\n",
      "[0] [0.]\n",
      "-0.9151019300464549\n",
      "[0] [0.]\n",
      "1.1135923647459698\n",
      "[1] [1.]\n",
      "0.6307211829109778\n",
      "[1] [1.]\n",
      "0.631002107996826\n",
      "[1] [1.]\n",
      "0.47716428791275745\n",
      "[0] [1.]\n",
      "-0.9909499226384939\n",
      "[0] [0.]\n",
      "-0.9727344196248515\n",
      "[1] [0.]\n",
      "-0.8968047468036995\n",
      "[1] [0.]\n",
      "0.5313263722356534\n",
      "[0] [1.]\n",
      "-0.7594661526013234\n",
      "[1] [0.]\n",
      "-1.0264185338273801\n",
      "[0] [0.]\n",
      "-0.4862152107446797\n",
      "[0] [0.]\n",
      "-0.8594543390244909\n",
      "[0] [0.]\n",
      "-0.18732944718400735\n",
      "[0] [0.]\n",
      "-0.8798046166587998\n",
      "[1] [0.]\n",
      "-0.8600653511832148\n",
      "[0] [0.]\n",
      "-0.8666890775447985\n",
      "[0] [0.]\n",
      "-0.9030770553035037\n",
      "[0] [0.]\n",
      "-1.0083658797381065\n",
      "[0] [0.]\n",
      "-0.8606827199354736\n",
      "[0] [0.]\n",
      "0.5877903717432666\n",
      "[0] [1.]\n",
      "-0.9579155384245918\n",
      "[0] [0.]\n",
      "0.583427803791089\n",
      "[1] [1.]\n",
      "0.6432644953696552\n",
      "[1] [1.]\n",
      "-0.9857845572460397\n",
      "[0] [0.]\n",
      "-1.0282999799963464\n",
      "[0] [0.]\n",
      "0.6122887473780018\n",
      "[1] [1.]\n",
      "0.6472845029014758\n",
      "[1] [1.]\n",
      "-1.0599719871413347\n",
      "[0] [0.]\n",
      "-0.833472030082811\n",
      "[0] [0.]\n",
      "-0.28856388697534074\n",
      "[0] [0.]\n",
      "-1.1483485379733718\n",
      "[1] [0.]\n",
      "-0.9309378683966157\n",
      "[0] [0.]\n",
      "-0.9305622753681745\n",
      "[0] [0.]\n",
      "0.7012366191544291\n",
      "[0] [1.]\n",
      "0.6636228580221962\n",
      "[1] [1.]\n",
      "-1.060816597608352\n",
      "[0] [0.]\n",
      "-0.5201565848704868\n",
      "[1] [0.]\n",
      "0.6142684991404508\n",
      "[0] [1.]\n",
      "0.6684648799548414\n",
      "[1] [1.]\n",
      "-0.8741616925536149\n",
      "[0] [0.]\n",
      "1.9195154831930088\n",
      "[1] [1.]\n",
      "-0.8451725146161555\n",
      "[0] [0.]\n",
      "-1.0295756127732751\n",
      "[0] [0.]\n",
      "-0.7584419922388724\n",
      "[0] [0.]\n",
      "-1.0229761214036859\n",
      "[0] [0.]\n",
      "-1.0592751590060248\n",
      "[0] [0.]\n",
      "-0.8631870282787526\n",
      "[0] [0.]\n",
      "-0.8817859893623784\n",
      "[1] [0.]\n",
      "0.6438980830328808\n",
      "[1] [1.]\n",
      "-0.9007898302529853\n",
      "[1] [0.]\n",
      "1.0404861931270877\n",
      "[1] [1.]\n",
      "-1.084206505385186\n",
      "[0] [0.]\n",
      "-0.73808758053922\n",
      "[0] [0.]\n",
      "-0.41452596864543106\n",
      "[0] [0.]\n",
      "-0.9243681212446291\n",
      "[1] [0.]\n",
      "0.6001261560951181\n",
      "[0] [1.]\n",
      "-0.8741616925536149\n",
      "[0] [0.]\n",
      "-1.117474384915892\n",
      "[0] [0.]\n",
      "-0.8950771654662989\n",
      "[0] [0.]\n",
      "0.6803625670970435\n",
      "[1] [1.]\n",
      "-0.8954527584947402\n",
      "[0] [0.]\n",
      "1.1196312200025613\n",
      "[1] [1.]\n",
      "-0.9181749595209634\n",
      "[0] [0.]\n",
      "0.5606852397879342\n",
      "[1] [1.]\n",
      "-0.6085550720715784\n",
      "[0] [0.]\n",
      "0.3976246018217213\n",
      "[0] [1.]\n",
      "-0.9389756786838073\n",
      "[1] [0.]\n",
      "-0.9401293034919882\n",
      "[0] [0.]\n",
      "-0.8715646807387424\n",
      "[0] [0.]\n",
      "0.5038184802429719\n",
      "[1] [1.]\n",
      "1.8940237750274576\n",
      "[0] [1.]\n",
      "0.5641450242965228\n",
      "[1] [1.]\n",
      "0.622849898174436\n",
      "[1] [1.]\n",
      "0.7861286338441785\n",
      "[1] [1.]\n",
      "0.7662400816150952\n",
      "[1] [1.]\n",
      "-1.244569532795519\n",
      "[0] [0.]\n",
      "-0.6819410090675279\n",
      "[0] [0.]\n",
      "-0.9892442029914699\n",
      "[0] [0.]\n",
      "-0.9412542700628788\n",
      "[0] [0.]\n"
     ]
    }
   ],
   "source": [
    "pred_res =np.empty([len(x_test),1])\n",
    "for i in range(len(x_test)):\n",
    "    print(x_test[i]@final)\n",
    "    if norm.cdf(x_test[i]@final)>0.5:\n",
    "        pred_res[i]=1\n",
    "    else:\n",
    "        pred_res[i]=0\n",
    "    print(y_test[i],pred_res[i])"
   ]
  },
  {
   "cell_type": "code",
   "execution_count": 38,
   "metadata": {},
   "outputs": [
    {
     "data": {
      "text/plain": [
       "array([[1.],\n",
       "       [1.],\n",
       "       [0.],\n",
       "       [1.],\n",
       "       [0.],\n",
       "       [0.],\n",
       "       [0.],\n",
       "       [0.],\n",
       "       [1.],\n",
       "       [0.],\n",
       "       [1.],\n",
       "       [0.],\n",
       "       [1.],\n",
       "       [1.],\n",
       "       [0.],\n",
       "       [0.],\n",
       "       [1.],\n",
       "       [0.],\n",
       "       [1.],\n",
       "       [0.],\n",
       "       [1.],\n",
       "       [1.],\n",
       "       [0.],\n",
       "       [0.],\n",
       "       [0.],\n",
       "       [1.],\n",
       "       [1.],\n",
       "       [0.],\n",
       "       [1.],\n",
       "       [0.],\n",
       "       [1.],\n",
       "       [0.],\n",
       "       [1.],\n",
       "       [0.],\n",
       "       [1.],\n",
       "       [0.],\n",
       "       [0.],\n",
       "       [0.],\n",
       "       [0.],\n",
       "       [0.],\n",
       "       [1.],\n",
       "       [0.],\n",
       "       [1.],\n",
       "       [1.],\n",
       "       [1.],\n",
       "       [0.],\n",
       "       [1.],\n",
       "       [1.],\n",
       "       [1.],\n",
       "       [1.],\n",
       "       [0.],\n",
       "       [0.],\n",
       "       [0.],\n",
       "       [1.],\n",
       "       [0.],\n",
       "       [1.],\n",
       "       [0.],\n",
       "       [0.],\n",
       "       [0.],\n",
       "       [1.],\n",
       "       [0.],\n",
       "       [0.],\n",
       "       [0.],\n",
       "       [0.],\n",
       "       [1.],\n",
       "       [1.],\n",
       "       [1.],\n",
       "       [1.],\n",
       "       [0.],\n",
       "       [0.],\n",
       "       [0.],\n",
       "       [1.],\n",
       "       [0.],\n",
       "       [0.],\n",
       "       [0.],\n",
       "       [0.],\n",
       "       [0.],\n",
       "       [0.],\n",
       "       [0.],\n",
       "       [0.],\n",
       "       [0.],\n",
       "       [0.],\n",
       "       [0.],\n",
       "       [1.],\n",
       "       [0.],\n",
       "       [1.],\n",
       "       [1.],\n",
       "       [0.],\n",
       "       [0.],\n",
       "       [1.],\n",
       "       [1.],\n",
       "       [0.],\n",
       "       [0.],\n",
       "       [0.],\n",
       "       [0.],\n",
       "       [0.],\n",
       "       [0.],\n",
       "       [1.],\n",
       "       [1.],\n",
       "       [0.],\n",
       "       [0.],\n",
       "       [1.],\n",
       "       [1.],\n",
       "       [0.],\n",
       "       [1.],\n",
       "       [0.],\n",
       "       [0.],\n",
       "       [0.],\n",
       "       [0.],\n",
       "       [0.],\n",
       "       [0.],\n",
       "       [0.],\n",
       "       [1.],\n",
       "       [0.],\n",
       "       [1.],\n",
       "       [0.],\n",
       "       [0.],\n",
       "       [0.],\n",
       "       [0.],\n",
       "       [1.],\n",
       "       [0.],\n",
       "       [0.],\n",
       "       [0.],\n",
       "       [1.],\n",
       "       [0.],\n",
       "       [1.],\n",
       "       [0.],\n",
       "       [1.],\n",
       "       [0.],\n",
       "       [1.],\n",
       "       [0.],\n",
       "       [0.],\n",
       "       [0.],\n",
       "       [1.],\n",
       "       [1.],\n",
       "       [1.],\n",
       "       [1.],\n",
       "       [1.],\n",
       "       [1.],\n",
       "       [0.],\n",
       "       [0.],\n",
       "       [0.],\n",
       "       [0.]])"
      ]
     },
     "execution_count": 38,
     "metadata": {},
     "output_type": "execute_result"
    }
   ],
   "source": [
    "pred_res"
   ]
  },
  {
   "cell_type": "code",
   "execution_count": 39,
   "metadata": {},
   "outputs": [
    {
     "data": {
      "text/plain": [
       "array([0.83274569, 0.85612815, 0.15917881, 0.68128055, 0.18735366,\n",
       "       0.17928435, 0.15221694, 0.18941626, 0.7435723 , 0.13851505,\n",
       "       0.72452635, 0.18031985, 0.86381164, 0.63027011, 0.20312183,\n",
       "       0.20988797, 0.70955721, 0.13055561, 0.73732337, 0.17252389,\n",
       "       0.80048941, 0.74965086, 0.16869728, 0.16007706, 0.18297651,\n",
       "       0.75648755, 0.64307721, 0.20410411, 0.953175  , 0.19106979,\n",
       "       0.78885509, 0.18160349, 0.9939865 , 0.24118489, 0.73127616,\n",
       "       0.19956484, 0.14203157, 0.20137134, 0.22591455, 0.1537498 ,\n",
       "       0.77730775, 0.18441366, 0.78512549, 0.90954019, 0.89650997,\n",
       "       0.16879409, 0.83057934, 0.7758101 , 0.97618097, 0.78420476,\n",
       "       0.1534357 , 0.1758065 , 0.20533322, 0.81577644, 0.23365396,\n",
       "       0.74941488, 0.17846157, 0.17597684, 0.21049017, 0.7431597 ,\n",
       "       0.17065918, 0.14621671, 0.16173837, 0.18006906, 0.86727295,\n",
       "       0.73588858, 0.73598043, 0.68337743, 0.16085502, 0.16534266,\n",
       "       0.18491156, 0.70240368, 0.22378688, 0.15234717, 0.31340729,\n",
       "       0.19504495, 0.42570117, 0.18948258, 0.19487651, 0.1930562 ,\n",
       "       0.1832425 , 0.15663942, 0.19470641, 0.7216635 , 0.16905268,\n",
       "       0.72019733, 0.73997375, 0.16211942, 0.15190437, 0.72982663,\n",
       "       0.74127609, 0.14457867, 0.20228928, 0.38645757, 0.12541235,\n",
       "       0.17594285, 0.17604002, 0.75842232, 0.74653414, 0.14438663,\n",
       "       0.30147722, 0.73048104, 0.74808155, 0.1910151 , 0.97254044,\n",
       "       0.19900726, 0.15160463, 0.22409321, 0.15315957, 0.14473724,\n",
       "       0.19401732, 0.18894627, 0.74017924, 0.18385004, 0.85094296,\n",
       "       0.13913662, 0.23023062, 0.33924448, 0.17764734, 0.72578892,\n",
       "       0.1910151 , 0.13189577, 0.18537292, 0.75186254, 0.18527255,\n",
       "       0.86856453, 0.17926364, 0.71249393, 0.2714097 , 0.65454654,\n",
       "       0.17387162, 0.17357562, 0.19172295, 0.69280553, 0.97088907,\n",
       "       0.71367228, 0.73330842, 0.78410393, 0.77823327, 0.10664501,\n",
       "       0.24763813, 0.16127184, 0.17328729])"
      ]
     },
     "execution_count": 39,
     "metadata": {},
     "output_type": "execute_result"
    }
   ],
   "source": [
    "pred_res2 = norm.cdf(x_test@final)\n",
    "pred_res2"
   ]
  },
  {
   "cell_type": "code",
   "execution_count": 40,
   "metadata": {},
   "outputs": [],
   "source": [
    "from sklearn.metrics import accuracy_score"
   ]
  },
  {
   "cell_type": "code",
   "execution_count": 41,
   "metadata": {},
   "outputs": [
    {
     "data": {
      "text/plain": [
       "0.8041958041958042"
      ]
     },
     "execution_count": 41,
     "metadata": {},
     "output_type": "execute_result"
    }
   ],
   "source": [
    "accuracy_score(y_test, pred_res)"
   ]
  },
  {
   "cell_type": "code",
   "execution_count": 42,
   "metadata": {},
   "outputs": [
    {
     "data": {
      "text/plain": [
       "(143, 1)"
      ]
     },
     "execution_count": 42,
     "metadata": {},
     "output_type": "execute_result"
    }
   ],
   "source": [
    "y_test.shape"
   ]
  },
  {
   "cell_type": "code",
   "execution_count": null,
   "metadata": {},
   "outputs": [],
   "source": []
  }
 ],
 "metadata": {
  "kernelspec": {
   "display_name": "Python 3",
   "language": "python",
   "name": "python3"
  },
  "language_info": {
   "codemirror_mode": {
    "name": "ipython",
    "version": 3
   },
   "file_extension": ".py",
   "mimetype": "text/x-python",
   "name": "python",
   "nbconvert_exporter": "python",
   "pygments_lexer": "ipython3",
   "version": "3.8.5"
  }
 },
 "nbformat": 4,
 "nbformat_minor": 4
}
